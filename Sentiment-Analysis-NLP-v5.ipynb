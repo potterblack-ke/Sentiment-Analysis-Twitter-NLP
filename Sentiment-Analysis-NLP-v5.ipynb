{
 "cells": [
  {
   "cell_type": "markdown",
   "id": "41e269ca",
   "metadata": {},
   "source": [
    "## Sentiment Analysis of Tweets "
   ]
  },
  {
   "cell_type": "markdown",
   "id": "14d5c9bc",
   "metadata": {},
   "source": [
    "Wachira James\n",
    "\n",
    "Tim Musungu\n",
    "\n",
    "Vivian Kwamboka\n",
    "\n",
    "Calvin Mutua\n",
    "\n",
    "Hashim Ibrahim"
   ]
  },
  {
   "cell_type": "markdown",
   "metadata": {},
   "source": [
    "## Project Executive Summary\n",
    "***\n",
    "\n",
    "This project applies Natural Language Processing (NLP) and machine learning techniques to analyze customer sentiment from textual data. The objective is to extract actionable insights that can help businesses understand customer feedback, identify areas of dissatisfaction, and improve service delivery.\n",
    "\n",
    "After preprocessing raw text data using techniques like tokenization, TF-IDF vectorization, and class balancing with SMOTE, multiple classification models were trained and evaluated, including Random Forests, XGBoost, and Naive Bayes variants. The best-performing model, based on F1-score and accuracy, was the Tuned Random Forest, achieving 66.89% accuracy and 53.65% F1-score, followed closely by XGBoost with SMOTE and Multinomial Naive Bayes.\n",
    "\n",
    "The analysis revealed that a significant proportion of reviews are negative, indicating a need for product or service improvements. The most important features influencing model predictions include terms associated with service issues, product dissatisfaction, and delivery delays. These insights offer a data-driven foundation for improving customer experience, prioritizing support areas, and enhancing overall satisfaction."
   ]
  },
  {
   "cell_type": "markdown",
   "id": "24b4c003",
   "metadata": {},
   "source": [
    "### 2. Project Introduction\n",
    "\n",
    "In today's fast-paced digital world, businesses are constantly exposed to public feedback on social media platforms like Twitter. This feedback contains valuable insights into customer sentiment, perceptions of products or services, and overall brand reputation. However, the unstructured and high-volume nature of tweets makes manual analysis impractical.\n",
    "\n",
    "### 3. Project Objectives\n",
    "The goal of this project is to develop a machine learning-based sentiment analysis system that automatically classifies tweets related to different product categories into sentiment classes: **Negative**, **Neutral**, or **Positive**. This enables stakeholders to:\n",
    "\n",
    "- Monitor public sentiment in real time\n",
    "- Identify product-specific issues or praise\n",
    "- Improve customer service responsiveness\n",
    "\n",
    "By transforming raw tweet data into structured, actionable insights, the business can respond proactively to customer needs and protect its brand image.\n"
   ]
  },
  {
   "cell_type": "markdown",
   "metadata": {},
   "source": [
    "### 4. Business Understanding\n",
    "\n",
    "This project will address several real-world business challenges that affect customer experience, brand reputation, and operational efficiency. Below are the key problems tackled:\n",
    "\n",
    "1. **Customer Sentiment Understanding**\n",
    "   - TO Automatically classifies tweets into _Negative_, _Neutral_, and _Positive_ categories, enabling the business to gauge public opinion at scale.\n",
    "\n",
    "2. **Brand Reputation Monitoring**\n",
    "   - To Identify early signs of dissatisfaction or crisis by tracking shifts in sentiment, allowing the company to take proactive measures.\n",
    "\n",
    "3. **Product-Specific Feedback Insights**\n",
    "   - To try and Incorporate `product_category` into the model, enabling teams to analyze which product lines receive the most praise or complaints."
   ]
  },
  {
   "cell_type": "markdown",
   "metadata": {},
   "source": [
    "### 5. Data Understanding\n",
    "The dataset used in this project comes from CrowdFlower via data.world. It is a collection of **~9000** tweets labeled with sentiment categories about Apple and Google products. It includes the following fields:\n",
    "\n",
    "- `text`: The tweet content (raw text)\n",
    "\n",
    "- `product_cat`: The product category (described the product the tweet was referring to)\n",
    "\n",
    "- `label`: The sentiment of the tweet (originally a text label, later mapped to numeric values)\n",
    "\n",
    "Our key metrics for model performance are:\n",
    "\n",
    "- **Accuracy** (cross-validated)\n",
    "- **F1 Score** (weighted)\n",
    "- **ROC_AUC Score**"
   ]
  },
  {
   "cell_type": "markdown",
   "id": "9b18face",
   "metadata": {},
   "source": [
    "### 6. Data Preparation"
   ]
  },
  {
   "cell_type": "code",
   "execution_count": 1,
   "id": "bde52cfe",
   "metadata": {},
   "outputs": [
    {
     "name": "stderr",
     "output_type": "stream",
     "text": [
      "[nltk_data] Downloading package punkt to\n",
      "[nltk_data]     C:\\Users\\USER\\AppData\\Roaming\\nltk_data...\n",
      "[nltk_data]   Package punkt is already up-to-date!\n",
      "[nltk_data] Downloading package wordnet to\n",
      "[nltk_data]     C:\\Users\\USER\\AppData\\Roaming\\nltk_data...\n",
      "[nltk_data]   Package wordnet is already up-to-date!\n",
      "[nltk_data] Downloading package averaged_perceptron_tagger to\n",
      "[nltk_data]     C:\\Users\\USER\\AppData\\Roaming\\nltk_data...\n",
      "[nltk_data]   Package averaged_perceptron_tagger is already up-to-\n",
      "[nltk_data]       date!\n",
      "[nltk_data] Downloading package omw-1.4 to\n",
      "[nltk_data]     C:\\Users\\USER\\AppData\\Roaming\\nltk_data...\n",
      "[nltk_data]   Package omw-1.4 is already up-to-date!\n"
     ]
    }
   ],
   "source": [
    "#Import necessary libraries\n",
    "\n",
    "import pandas as pd\n",
    "import numpy as np\n",
    "import matplotlib.pyplot as plt\n",
    "import seaborn as sns\n",
    "\n",
    "import nltk\n",
    "import re\n",
    "from nltk.tokenize import TweetTokenizer\n",
    "from nltk.corpus import stopwords, wordnet\n",
    "from nltk import pos_tag\n",
    "from nltk.stem import WordNetLemmatizer\n",
    "\n",
    "\n",
    "from sklearn.model_selection import train_test_split, cross_val_score\n",
    "from sklearn.tree import DecisionTreeClassifier\n",
    "from sklearn.ensemble import RandomForestClassifier\n",
    "from sklearn.metrics import classification_report, confusion_matrix, ConfusionMatrixDisplay, accuracy_score,f1_score, roc_auc_score\n",
    "from imblearn.pipeline import Pipeline\n",
    "from sklearn.compose import ColumnTransformer\n",
    "from sklearn.preprocessing import OneHotEncoder, FunctionTransformer\n",
    "from imblearn.over_sampling import SMOTE\n",
    "from sklearn.decomposition import PCA\n",
    "from sklearn.naive_bayes import MultinomialNB\n",
    "from sklearn.feature_extraction.text import CountVectorizer, TfidfVectorizer\n",
    "from sklearn.model_selection import GridSearchCV\n",
    "\n",
    "nltk.download('punkt')\n",
    "nltk.download('wordnet')\n",
    "nltk.download('averaged_perceptron_tagger')\n",
    "nltk.download('omw-1.4')\n",
    "\n",
    "import os\n",
    "os.environ['LOKY_MAX_CPU_COUNT'] = '2'\n",
    "\n"
   ]
  },
  {
   "cell_type": "markdown",
   "id": "cf6dc83e",
   "metadata": {},
   "source": [
    "This cell imports essential libraries required for data manipulation (pandas, numpy), visualization (matplotlib, seaborn), \n",
    "and text preprocessing (re for regex, string). These form the foundation for the NLP and analysis tasks that follow.\n"
   ]
  },
  {
   "cell_type": "markdown",
   "id": "d8a715df",
   "metadata": {},
   "source": [
    "### 6.1. Data Cleaning and Text Preprocessing"
   ]
  },
  {
   "cell_type": "code",
   "execution_count": 2,
   "id": "28e401a4",
   "metadata": {},
   "outputs": [
    {
     "data": {
      "application/vnd.microsoft.datawrangler.viewer.v0+json": {
       "columns": [
        {
         "name": "index",
         "rawType": "int64",
         "type": "integer"
        },
        {
         "name": "tweet_text",
         "rawType": "object",
         "type": "string"
        },
        {
         "name": "emotion_in_tweet_is_directed_at",
         "rawType": "object",
         "type": "string"
        },
        {
         "name": "is_there_an_emotion_directed_at_a_brand_or_product",
         "rawType": "object",
         "type": "string"
        }
       ],
       "ref": "70184695-bb09-455f-816e-987eea01511a",
       "rows": [
        [
         "0",
         ".@wesley83 I have a 3G iPhone. After 3 hrs tweeting at #RISE_Austin, it was dead!  I need to upgrade. Plugin stations at #SXSW.",
         "iPhone",
         "Negative emotion"
        ],
        [
         "1",
         "@jessedee Know about @fludapp ? Awesome iPad/iPhone app that you'll likely appreciate for its design. Also, they're giving free Ts at #SXSW",
         "iPad or iPhone App",
         "Positive emotion"
        ],
        [
         "2",
         "@swonderlin Can not wait for #iPad 2 also. They should sale them down at #SXSW.",
         "iPad",
         "Positive emotion"
        ],
        [
         "3",
         "@sxsw I hope this year's festival isn't as crashy as this year's iPhone app. #sxsw",
         "iPad or iPhone App",
         "Negative emotion"
        ],
        [
         "4",
         "@sxtxstate great stuff on Fri #SXSW: Marissa Mayer (Google), Tim O'Reilly (tech books/conferences) &amp; Matt Mullenweg (Wordpress)",
         "Google",
         "Positive emotion"
        ]
       ],
       "shape": {
        "columns": 3,
        "rows": 5
       }
      },
      "text/html": [
       "<div>\n",
       "<style scoped>\n",
       "    .dataframe tbody tr th:only-of-type {\n",
       "        vertical-align: middle;\n",
       "    }\n",
       "\n",
       "    .dataframe tbody tr th {\n",
       "        vertical-align: top;\n",
       "    }\n",
       "\n",
       "    .dataframe thead th {\n",
       "        text-align: right;\n",
       "    }\n",
       "</style>\n",
       "<table border=\"1\" class=\"dataframe\">\n",
       "  <thead>\n",
       "    <tr style=\"text-align: right;\">\n",
       "      <th></th>\n",
       "      <th>tweet_text</th>\n",
       "      <th>emotion_in_tweet_is_directed_at</th>\n",
       "      <th>is_there_an_emotion_directed_at_a_brand_or_product</th>\n",
       "    </tr>\n",
       "  </thead>\n",
       "  <tbody>\n",
       "    <tr>\n",
       "      <th>0</th>\n",
       "      <td>.@wesley83 I have a 3G iPhone. After 3 hrs twe...</td>\n",
       "      <td>iPhone</td>\n",
       "      <td>Negative emotion</td>\n",
       "    </tr>\n",
       "    <tr>\n",
       "      <th>1</th>\n",
       "      <td>@jessedee Know about @fludapp ? Awesome iPad/i...</td>\n",
       "      <td>iPad or iPhone App</td>\n",
       "      <td>Positive emotion</td>\n",
       "    </tr>\n",
       "    <tr>\n",
       "      <th>2</th>\n",
       "      <td>@swonderlin Can not wait for #iPad 2 also. The...</td>\n",
       "      <td>iPad</td>\n",
       "      <td>Positive emotion</td>\n",
       "    </tr>\n",
       "    <tr>\n",
       "      <th>3</th>\n",
       "      <td>@sxsw I hope this year's festival isn't as cra...</td>\n",
       "      <td>iPad or iPhone App</td>\n",
       "      <td>Negative emotion</td>\n",
       "    </tr>\n",
       "    <tr>\n",
       "      <th>4</th>\n",
       "      <td>@sxtxstate great stuff on Fri #SXSW: Marissa M...</td>\n",
       "      <td>Google</td>\n",
       "      <td>Positive emotion</td>\n",
       "    </tr>\n",
       "  </tbody>\n",
       "</table>\n",
       "</div>"
      ],
      "text/plain": [
       "                                          tweet_text  \\\n",
       "0  .@wesley83 I have a 3G iPhone. After 3 hrs twe...   \n",
       "1  @jessedee Know about @fludapp ? Awesome iPad/i...   \n",
       "2  @swonderlin Can not wait for #iPad 2 also. The...   \n",
       "3  @sxsw I hope this year's festival isn't as cra...   \n",
       "4  @sxtxstate great stuff on Fri #SXSW: Marissa M...   \n",
       "\n",
       "  emotion_in_tweet_is_directed_at  \\\n",
       "0                          iPhone   \n",
       "1              iPad or iPhone App   \n",
       "2                            iPad   \n",
       "3              iPad or iPhone App   \n",
       "4                          Google   \n",
       "\n",
       "  is_there_an_emotion_directed_at_a_brand_or_product  \n",
       "0                                   Negative emotion  \n",
       "1                                   Positive emotion  \n",
       "2                                   Positive emotion  \n",
       "3                                   Negative emotion  \n",
       "4                                   Positive emotion  "
      ]
     },
     "execution_count": 2,
     "metadata": {},
     "output_type": "execute_result"
    }
   ],
   "source": [
    "# Read in the data\n",
    "tweets = pd.read_csv('data/tweets.csv', encoding = 'iso-8859-1')\n",
    "tweets.head()"
   ]
  },
  {
   "cell_type": "markdown",
   "id": "033c3c47",
   "metadata": {},
   "source": [
    "This cell loads the dataset from a CSV file into a pandas DataFrame. The dataset contains airline tweets, which will be \n",
    "analyzed for sentiment. A preview of the data is shown using `.head()` to verify it loaded correctly.\n"
   ]
  },
  {
   "cell_type": "code",
   "execution_count": 3,
   "id": "dd8f8eed",
   "metadata": {},
   "outputs": [],
   "source": [
    "# Rename columns\n",
    "tweets.columns = ['text', 'product_cat', 'label']"
   ]
  },
  {
   "cell_type": "markdown",
   "id": "9dba9ff2",
   "metadata": {},
   "source": [
    "\n",
    "- We change the `label` column values using this mapping:\n",
    "    - 'Negative emotion': 0 (**Negative**), \n",
    "    - 'No emotion toward brand or product': 1 (**Neutral**), \n",
    "    - 'Positive emotion': 2 (**Positive**), \n",
    "    - \"I can't tell\": 3 (to be dropped)"
   ]
  },
  {
   "cell_type": "code",
   "execution_count": 4,
   "id": "468df51e",
   "metadata": {},
   "outputs": [
    {
     "name": "stdout",
     "output_type": "stream",
     "text": [
      "<class 'pandas.core.frame.DataFrame'>\n",
      "Int64Index: 8937 entries, 0 to 9092\n",
      "Data columns (total 3 columns):\n",
      " #   Column       Non-Null Count  Dtype \n",
      "---  ------       --------------  ----- \n",
      " 0   text         8936 non-null   object\n",
      " 1   product_cat  3282 non-null   object\n",
      " 2   label        8937 non-null   int64 \n",
      "dtypes: int64(1), object(2)\n",
      "memory usage: 279.3+ KB\n"
     ]
    }
   ],
   "source": [
    "# Map labels to numerical values\n",
    "tweets['label'] = tweets['label'].map({'Negative emotion': 0, 'No emotion toward brand or product': 1, 'Positive emotion': 2, \"I can't tell\": 3})\n",
    "\n",
    "# Filter out 'I can't tell' label\n",
    "tweets = tweets[tweets['label'] != 3]\n",
    "\n",
    "tweets.info()"
   ]
  },
  {
   "cell_type": "markdown",
   "id": "8657fd43",
   "metadata": {},
   "source": [
    "Thi above cell gives a summary of the dataset, checking for null values in each column, where the `product_cat` column has a lot null values. It helps identify missing data that \n",
    "might need to be handled during preprocessing.\n",
    "\n"
   ]
  },
  {
   "cell_type": "code",
   "execution_count": 5,
   "id": "58bb3d2c",
   "metadata": {},
   "outputs": [
    {
     "name": "stdout",
     "output_type": "stream",
     "text": [
      "<class 'pandas.core.frame.DataFrame'>\n",
      "Int64Index: 8914 entries, 0 to 9092\n",
      "Data columns (total 2 columns):\n",
      " #   Column  Non-Null Count  Dtype \n",
      "---  ------  --------------  ----- \n",
      " 0   text    8914 non-null   object\n",
      " 1   label   8914 non-null   int64 \n",
      "dtypes: int64(1), object(1)\n",
      "memory usage: 208.9+ KB\n"
     ]
    }
   ],
   "source": [
    "# Drop unecessary columns\n",
    "tweets.drop(columns=['product_cat'], inplace=True)\n",
    "\n",
    "# Drop null values\n",
    "tweets.dropna(inplace=True)\n",
    "\n",
    "# Drop duplicates\n",
    "tweets.drop_duplicates(inplace=True)\n",
    "\n",
    "tweets.info()"
   ]
  },
  {
   "cell_type": "markdown",
   "id": "32475f97",
   "metadata": {},
   "source": [
    "- We create a function which preprocesses the text by removing punctuation, digits, converting to lowercase, and removing extra whitespace.\n",
    " \n",
    "- It's crucial for cleaning text before vectorization and model training."
   ]
  },
  {
   "cell_type": "code",
   "execution_count": 6,
   "id": "592a21e0",
   "metadata": {},
   "outputs": [
    {
     "data": {
      "application/vnd.microsoft.datawrangler.viewer.v0+json": {
       "columns": [
        {
         "name": "index",
         "rawType": "int64",
         "type": "integer"
        },
        {
         "name": "text",
         "rawType": "object",
         "type": "string"
        },
        {
         "name": "clean_text",
         "rawType": "object",
         "type": "string"
        },
        {
         "name": "document",
         "rawType": "object",
         "type": "string"
        }
       ],
       "ref": "71eca734-6623-474d-949a-a813a9597752",
       "rows": [
        [
         "0",
         ".@wesley83 I have a 3G iPhone. After 3 hrs tweeting at #RISE_Austin, it was dead!  I need to upgrade. Plugin stations at #SXSW.",
         "['3g', 'iphone', '3', 'hr', 'tweet', 'dead', 'need', 'upgrade', 'plugin', 'station']",
         "3g iphone 3 hr tweet dead need upgrade plugin station"
        ],
        [
         "1",
         "@jessedee Know about @fludapp ? Awesome iPad/iPhone app that you'll likely appreciate for its design. Also, they're giving free Ts at #SXSW",
         "['know', 'awesome', 'ipadiphone', 'app', 'youll', 'likely', 'appreciate', 'design', 'also', 'theyre', 'give', 'free', 't']",
         "know awesome ipadiphone app youll likely appreciate design also theyre give free t"
        ],
        [
         "2",
         "@swonderlin Can not wait for #iPad 2 also. They should sale them down at #SXSW.",
         "['wait', '2', 'also', 'sale']",
         "wait 2 also sale"
        ],
        [
         "3",
         "@sxsw I hope this year's festival isn't as crashy as this year's iPhone app. #sxsw",
         "['hope', 'year', 'festival', 'isnt', 'crashy', 'year', 'iphone', 'app']",
         "hope year festival isnt crashy year iphone app"
        ],
        [
         "4",
         "@sxtxstate great stuff on Fri #SXSW: Marissa Mayer (Google), Tim O'Reilly (tech books/conferences) &amp; Matt Mullenweg (Wordpress)",
         "['great', 'stuff', 'fri', 'marissa', 'mayer', 'google', 'tim', 'oreilly', 'tech', 'booksconferences', 'amp', 'matt', 'mullenweg', 'wordpress']",
         "great stuff fri marissa mayer google tim oreilly tech booksconferences amp matt mullenweg wordpress"
        ]
       ],
       "shape": {
        "columns": 3,
        "rows": 5
       }
      },
      "text/html": [
       "<div>\n",
       "<style scoped>\n",
       "    .dataframe tbody tr th:only-of-type {\n",
       "        vertical-align: middle;\n",
       "    }\n",
       "\n",
       "    .dataframe tbody tr th {\n",
       "        vertical-align: top;\n",
       "    }\n",
       "\n",
       "    .dataframe thead th {\n",
       "        text-align: right;\n",
       "    }\n",
       "</style>\n",
       "<table border=\"1\" class=\"dataframe\">\n",
       "  <thead>\n",
       "    <tr style=\"text-align: right;\">\n",
       "      <th></th>\n",
       "      <th>text</th>\n",
       "      <th>clean_text</th>\n",
       "      <th>document</th>\n",
       "    </tr>\n",
       "  </thead>\n",
       "  <tbody>\n",
       "    <tr>\n",
       "      <th>0</th>\n",
       "      <td>.@wesley83 I have a 3G iPhone. After 3 hrs twe...</td>\n",
       "      <td>[3g, iphone, 3, hr, tweet, dead, need, upgrade...</td>\n",
       "      <td>3g iphone 3 hr tweet dead need upgrade plugin ...</td>\n",
       "    </tr>\n",
       "    <tr>\n",
       "      <th>1</th>\n",
       "      <td>@jessedee Know about @fludapp ? Awesome iPad/i...</td>\n",
       "      <td>[know, awesome, ipadiphone, app, youll, likely...</td>\n",
       "      <td>know awesome ipadiphone app youll likely appre...</td>\n",
       "    </tr>\n",
       "    <tr>\n",
       "      <th>2</th>\n",
       "      <td>@swonderlin Can not wait for #iPad 2 also. The...</td>\n",
       "      <td>[wait, 2, also, sale]</td>\n",
       "      <td>wait 2 also sale</td>\n",
       "    </tr>\n",
       "    <tr>\n",
       "      <th>3</th>\n",
       "      <td>@sxsw I hope this year's festival isn't as cra...</td>\n",
       "      <td>[hope, year, festival, isnt, crashy, year, iph...</td>\n",
       "      <td>hope year festival isnt crashy year iphone app</td>\n",
       "    </tr>\n",
       "    <tr>\n",
       "      <th>4</th>\n",
       "      <td>@sxtxstate great stuff on Fri #SXSW: Marissa M...</td>\n",
       "      <td>[great, stuff, fri, marissa, mayer, google, ti...</td>\n",
       "      <td>great stuff fri marissa mayer google tim oreil...</td>\n",
       "    </tr>\n",
       "  </tbody>\n",
       "</table>\n",
       "</div>"
      ],
      "text/plain": [
       "                                                text  \\\n",
       "0  .@wesley83 I have a 3G iPhone. After 3 hrs twe...   \n",
       "1  @jessedee Know about @fludapp ? Awesome iPad/i...   \n",
       "2  @swonderlin Can not wait for #iPad 2 also. The...   \n",
       "3  @sxsw I hope this year's festival isn't as cra...   \n",
       "4  @sxtxstate great stuff on Fri #SXSW: Marissa M...   \n",
       "\n",
       "                                          clean_text  \\\n",
       "0  [3g, iphone, 3, hr, tweet, dead, need, upgrade...   \n",
       "1  [know, awesome, ipadiphone, app, youll, likely...   \n",
       "2                              [wait, 2, also, sale]   \n",
       "3  [hope, year, festival, isnt, crashy, year, iph...   \n",
       "4  [great, stuff, fri, marissa, mayer, google, ti...   \n",
       "\n",
       "                                            document  \n",
       "0  3g iphone 3 hr tweet dead need upgrade plugin ...  \n",
       "1  know awesome ipadiphone app youll likely appre...  \n",
       "2                                   wait 2 also sale  \n",
       "3     hope year festival isnt crashy year iphone app  \n",
       "4  great stuff fri marissa mayer google tim oreil...  "
      ]
     },
     "execution_count": 6,
     "metadata": {},
     "output_type": "execute_result"
    }
   ],
   "source": [
    "# Convert NLTK POS tags to Wordnet POS tags\n",
    "def get_wordnet_pos(treebank_tag):\n",
    "    if treebank_tag.startswith('J'):\n",
    "        return wordnet.ADJ\n",
    "    elif treebank_tag.startswith('V'):\n",
    "        return wordnet.VERB\n",
    "    elif treebank_tag.startswith('N'):\n",
    "        return wordnet.NOUN\n",
    "    elif treebank_tag.startswith('R'):\n",
    "        return wordnet.ADV\n",
    "    else:\n",
    "        return wordnet.NOUN  # Default to noun\n",
    "\n",
    "\n",
    "stop_words = set(stopwords.words('english'))\n",
    "\n",
    "# Preprocess the text data\n",
    "def pre_proc(text):\n",
    "    # Remove conversions made during scraping\n",
    "    text = re.sub(r'{link}', '', text)\n",
    "    text = re.sub(r'\\[video\\]', '', text)\n",
    "\n",
    "    # Remove URLs\n",
    "    text = re.sub(r'http\\S+|www\\S+|https\\S+', '', text, flags=re.MULTILINE)\n",
    "    \n",
    "    # Remove user mentions and hashtags\n",
    "    text = re.sub(r'@\\w+|#\\w+', '', text)\n",
    "    \n",
    "    # Remove punctuation\n",
    "    text = re.sub(r'[^\\w\\s]', '', text)\n",
    "    \n",
    "    # Remove Non-ASCII characters\n",
    "    text = re.sub(r'[^\\x00-\\x7F]+', '', text)\n",
    "    \n",
    "    # Substitute '/' with 'or'\n",
    "    text = re.sub(r'/', ' or ', text)\n",
    "    \n",
    "    # Remove RT (retweet)\n",
    "    text = re.sub(r'\\b_*\\brt\\b', '', text, flags=re.IGNORECASE)\n",
    "   \n",
    "    text = str.lower(text) # Convert to lowercase\n",
    "    \n",
    "    # Tokenize the text using TweetTokenizer\n",
    "    tokenizer = TweetTokenizer()\n",
    "    tokens = tokenizer.tokenize(text)\n",
    "    \n",
    "    # Remove stopwords\n",
    "    tokens = [token for token in tokens if token not in stop_words]\n",
    "    \n",
    "    # POS tagging and lemmatization\n",
    "    lemmatizer = WordNetLemmatizer()\n",
    "    pos_tags = pos_tag(tokens)\n",
    "\n",
    "    tokens = [\n",
    "        lemmatizer.lemmatize(token, get_wordnet_pos(pos)) \n",
    "        for token, pos in pos_tags]\n",
    "\n",
    "    return tokens\n",
    "\n",
    "# Apply the pre_proc function to the 'text' column\n",
    "tweets['clean_text'] = tweets['text'].astype(str).apply(pre_proc)\n",
    "\n",
    "# Create a document feature by joining lemmatized tokens\n",
    "tweets['document'] = tweets['clean_text'].apply(lambda tokens: ' '.join(tokens))\n",
    "\n",
    "tweets[['text', 'clean_text', 'document']].head()"
   ]
  },
  {
   "cell_type": "markdown",
   "id": "b7a06a8f",
   "metadata": {},
   "source": [
    "### 6.2. Feature Engineering"
   ]
  },
  {
   "cell_type": "code",
   "execution_count": 7,
   "id": "66300226",
   "metadata": {},
   "outputs": [],
   "source": [
    "# Add feature columns for text analysis\n",
    "tweets['chars'] = tweets['text'].apply(lambda x: len(x))\n",
    "tweets['words'] = tweets['text'].apply(lambda x: len(nltk.word_tokenize(x)))\n",
    "tweets['sentences'] = tweets['text'].apply(lambda x: len(nltk.sent_tokenize(x)))\n"
   ]
  },
  {
   "cell_type": "code",
   "execution_count": 8,
   "id": "587cf913",
   "metadata": {},
   "outputs": [
    {
     "data": {
      "application/vnd.microsoft.datawrangler.viewer.v0+json": {
       "columns": [
        {
         "name": "index",
         "rawType": "int64",
         "type": "integer"
        },
        {
         "name": "text",
         "rawType": "object",
         "type": "string"
        },
        {
         "name": "label",
         "rawType": "int64",
         "type": "integer"
        },
        {
         "name": "clean_text",
         "rawType": "object",
         "type": "string"
        },
        {
         "name": "document",
         "rawType": "object",
         "type": "string"
        },
        {
         "name": "chars",
         "rawType": "int64",
         "type": "integer"
        },
        {
         "name": "words",
         "rawType": "int64",
         "type": "integer"
        },
        {
         "name": "sentences",
         "rawType": "int64",
         "type": "integer"
        },
        {
         "name": "product_category",
         "rawType": "object",
         "type": "string"
        }
       ],
       "ref": "544475df-4991-45d0-bdc2-44c8f9d6c2f8",
       "rows": [
        [
         "0",
         ".@wesley83 I have a 3G iPhone. After 3 hrs tweeting at #RISE_Austin, it was dead!  I need to upgrade. Plugin stations at #SXSW.",
         "0",
         "['3g', 'iphone', '3', 'hr', 'tweet', 'dead', 'need', 'upgrade', 'plugin', 'station']",
         "3g iphone 3 hr tweet dead need upgrade plugin station",
         "127",
         "32",
         "5",
         "Apple"
        ],
        [
         "1",
         "@jessedee Know about @fludapp ? Awesome iPad/iPhone app that you'll likely appreciate for its design. Also, they're giving free Ts at #SXSW",
         "2",
         "['know', 'awesome', 'ipadiphone', 'app', 'youll', 'likely', 'appreciate', 'design', 'also', 'theyre', 'give', 'free', 't']",
         "know awesome ipadiphone app youll likely appreciate design also theyre give free t",
         "139",
         "29",
         "3",
         "Apple"
        ],
        [
         "2",
         "@swonderlin Can not wait for #iPad 2 also. They should sale them down at #SXSW.",
         "2",
         "['wait', '2', 'also', 'sale']",
         "wait 2 also sale",
         "79",
         "20",
         "2",
         "Apple"
        ],
        [
         "3",
         "@sxsw I hope this year's festival isn't as crashy as this year's iPhone app. #sxsw",
         "0",
         "['hope', 'year', 'festival', 'isnt', 'crashy', 'year', 'iphone', 'app']",
         "hope year festival isnt crashy year iphone app",
         "82",
         "21",
         "2",
         "Apple"
        ],
        [
         "4",
         "@sxtxstate great stuff on Fri #SXSW: Marissa Mayer (Google), Tim O'Reilly (tech books/conferences) &amp; Matt Mullenweg (Wordpress)",
         "2",
         "['great', 'stuff', 'fri', 'marissa', 'mayer', 'google', 'tim', 'oreilly', 'tech', 'booksconferences', 'amp', 'matt', 'mullenweg', 'wordpress']",
         "great stuff fri marissa mayer google tim oreilly tech booksconferences amp matt mullenweg wordpress",
         "131",
         "29",
         "1",
         "Google"
        ]
       ],
       "shape": {
        "columns": 8,
        "rows": 5
       }
      },
      "text/html": [
       "<div>\n",
       "<style scoped>\n",
       "    .dataframe tbody tr th:only-of-type {\n",
       "        vertical-align: middle;\n",
       "    }\n",
       "\n",
       "    .dataframe tbody tr th {\n",
       "        vertical-align: top;\n",
       "    }\n",
       "\n",
       "    .dataframe thead th {\n",
       "        text-align: right;\n",
       "    }\n",
       "</style>\n",
       "<table border=\"1\" class=\"dataframe\">\n",
       "  <thead>\n",
       "    <tr style=\"text-align: right;\">\n",
       "      <th></th>\n",
       "      <th>text</th>\n",
       "      <th>label</th>\n",
       "      <th>clean_text</th>\n",
       "      <th>document</th>\n",
       "      <th>chars</th>\n",
       "      <th>words</th>\n",
       "      <th>sentences</th>\n",
       "      <th>product_category</th>\n",
       "    </tr>\n",
       "  </thead>\n",
       "  <tbody>\n",
       "    <tr>\n",
       "      <th>0</th>\n",
       "      <td>.@wesley83 I have a 3G iPhone. After 3 hrs twe...</td>\n",
       "      <td>0</td>\n",
       "      <td>[3g, iphone, 3, hr, tweet, dead, need, upgrade...</td>\n",
       "      <td>3g iphone 3 hr tweet dead need upgrade plugin ...</td>\n",
       "      <td>127</td>\n",
       "      <td>32</td>\n",
       "      <td>5</td>\n",
       "      <td>Apple</td>\n",
       "    </tr>\n",
       "    <tr>\n",
       "      <th>1</th>\n",
       "      <td>@jessedee Know about @fludapp ? Awesome iPad/i...</td>\n",
       "      <td>2</td>\n",
       "      <td>[know, awesome, ipadiphone, app, youll, likely...</td>\n",
       "      <td>know awesome ipadiphone app youll likely appre...</td>\n",
       "      <td>139</td>\n",
       "      <td>29</td>\n",
       "      <td>3</td>\n",
       "      <td>Apple</td>\n",
       "    </tr>\n",
       "    <tr>\n",
       "      <th>2</th>\n",
       "      <td>@swonderlin Can not wait for #iPad 2 also. The...</td>\n",
       "      <td>2</td>\n",
       "      <td>[wait, 2, also, sale]</td>\n",
       "      <td>wait 2 also sale</td>\n",
       "      <td>79</td>\n",
       "      <td>20</td>\n",
       "      <td>2</td>\n",
       "      <td>Apple</td>\n",
       "    </tr>\n",
       "    <tr>\n",
       "      <th>3</th>\n",
       "      <td>@sxsw I hope this year's festival isn't as cra...</td>\n",
       "      <td>0</td>\n",
       "      <td>[hope, year, festival, isnt, crashy, year, iph...</td>\n",
       "      <td>hope year festival isnt crashy year iphone app</td>\n",
       "      <td>82</td>\n",
       "      <td>21</td>\n",
       "      <td>2</td>\n",
       "      <td>Apple</td>\n",
       "    </tr>\n",
       "    <tr>\n",
       "      <th>4</th>\n",
       "      <td>@sxtxstate great stuff on Fri #SXSW: Marissa M...</td>\n",
       "      <td>2</td>\n",
       "      <td>[great, stuff, fri, marissa, mayer, google, ti...</td>\n",
       "      <td>great stuff fri marissa mayer google tim oreil...</td>\n",
       "      <td>131</td>\n",
       "      <td>29</td>\n",
       "      <td>1</td>\n",
       "      <td>Google</td>\n",
       "    </tr>\n",
       "  </tbody>\n",
       "</table>\n",
       "</div>"
      ],
      "text/plain": [
       "                                                text  label  \\\n",
       "0  .@wesley83 I have a 3G iPhone. After 3 hrs twe...      0   \n",
       "1  @jessedee Know about @fludapp ? Awesome iPad/i...      2   \n",
       "2  @swonderlin Can not wait for #iPad 2 also. The...      2   \n",
       "3  @sxsw I hope this year's festival isn't as cra...      0   \n",
       "4  @sxtxstate great stuff on Fri #SXSW: Marissa M...      2   \n",
       "\n",
       "                                          clean_text  \\\n",
       "0  [3g, iphone, 3, hr, tweet, dead, need, upgrade...   \n",
       "1  [know, awesome, ipadiphone, app, youll, likely...   \n",
       "2                              [wait, 2, also, sale]   \n",
       "3  [hope, year, festival, isnt, crashy, year, iph...   \n",
       "4  [great, stuff, fri, marissa, mayer, google, ti...   \n",
       "\n",
       "                                            document  chars  words  sentences  \\\n",
       "0  3g iphone 3 hr tweet dead need upgrade plugin ...    127     32          5   \n",
       "1  know awesome ipadiphone app youll likely appre...    139     29          3   \n",
       "2                                   wait 2 also sale     79     20          2   \n",
       "3     hope year festival isnt crashy year iphone app     82     21          2   \n",
       "4  great stuff fri marissa mayer google tim oreil...    131     29          1   \n",
       "\n",
       "  product_category  \n",
       "0            Apple  \n",
       "1            Apple  \n",
       "2            Apple  \n",
       "3            Apple  \n",
       "4           Google  "
      ]
     },
     "execution_count": 8,
     "metadata": {},
     "output_type": "execute_result"
    }
   ],
   "source": [
    "# Define a function that classifies a tweet as either referring to Apple or Google products\n",
    "# Returns a string representing the relevant product category - either Apple or Google\n",
    "\n",
    "def identify_product(tweet):\n",
    "    tweet_check = tweet.lower()\n",
    "    apple_keywords = ['iphone', 'ipad', 'macbook', 'apple watch', 'airpods', 'imac']\n",
    "\n",
    "    # find tweets about Apple products\n",
    "    if any(keyword in tweet_check for keyword in apple_keywords):\n",
    "        return 'Apple'\n",
    "    else:\n",
    "        return 'Google'\n",
    "    \n",
    "    \n",
    "# Adds product category column \n",
    "tweets['product_category'] = tweets['text'].apply(identify_product)\n",
    "\n",
    "tweets['product_category'].value_counts(normalize=True)\n",
    "\n",
    "tweets.head()"
   ]
  },
  {
   "cell_type": "markdown",
   "id": "abf44d6d",
   "metadata": {},
   "source": [
    "### 6.3. Exploratory Data Analysis"
   ]
  },
  {
   "cell_type": "code",
   "execution_count": 9,
   "id": "00704701",
   "metadata": {},
   "outputs": [
    {
     "data": {
      "application/vnd.microsoft.datawrangler.viewer.v0+json": {
       "columns": [
        {
         "name": "index",
         "rawType": "object",
         "type": "string"
        },
        {
         "name": "label",
         "rawType": "float64",
         "type": "float"
        },
        {
         "name": "chars",
         "rawType": "float64",
         "type": "float"
        },
        {
         "name": "words",
         "rawType": "float64",
         "type": "float"
        },
        {
         "name": "sentences",
         "rawType": "float64",
         "type": "float"
        }
       ],
       "ref": "59fc249f-14f0-46f4-9a4e-379c67f05cbd",
       "rows": [
        [
         "count",
         "8914.0",
         "8914.0",
         "8914.0",
         "8914.0"
        ],
        [
         "mean",
         "1.2693515817814673",
         "104.97677810186224",
         "24.429997756338345",
         "1.8773838905093112"
        ],
        [
         "std",
         "0.5696508220225194",
         "27.191691865002017",
         "6.502162156680214",
         "0.9397286497641513"
        ],
        [
         "min",
         "0.0",
         "11.0",
         "3.0",
         "1.0"
        ],
        [
         "25%",
         "1.0",
         "86.0",
         "20.0",
         "1.0"
        ],
        [
         "50%",
         "1.0",
         "109.0",
         "25.0",
         "2.0"
        ],
        [
         "75%",
         "2.0",
         "126.0",
         "29.0",
         "2.0"
        ],
        [
         "max",
         "2.0",
         "178.0",
         "49.0",
         "7.0"
        ]
       ],
       "shape": {
        "columns": 4,
        "rows": 8
       }
      },
      "text/html": [
       "<div>\n",
       "<style scoped>\n",
       "    .dataframe tbody tr th:only-of-type {\n",
       "        vertical-align: middle;\n",
       "    }\n",
       "\n",
       "    .dataframe tbody tr th {\n",
       "        vertical-align: top;\n",
       "    }\n",
       "\n",
       "    .dataframe thead th {\n",
       "        text-align: right;\n",
       "    }\n",
       "</style>\n",
       "<table border=\"1\" class=\"dataframe\">\n",
       "  <thead>\n",
       "    <tr style=\"text-align: right;\">\n",
       "      <th></th>\n",
       "      <th>label</th>\n",
       "      <th>chars</th>\n",
       "      <th>words</th>\n",
       "      <th>sentences</th>\n",
       "    </tr>\n",
       "  </thead>\n",
       "  <tbody>\n",
       "    <tr>\n",
       "      <th>count</th>\n",
       "      <td>8914.000000</td>\n",
       "      <td>8914.000000</td>\n",
       "      <td>8914.000000</td>\n",
       "      <td>8914.000000</td>\n",
       "    </tr>\n",
       "    <tr>\n",
       "      <th>mean</th>\n",
       "      <td>1.269352</td>\n",
       "      <td>104.976778</td>\n",
       "      <td>24.429998</td>\n",
       "      <td>1.877384</td>\n",
       "    </tr>\n",
       "    <tr>\n",
       "      <th>std</th>\n",
       "      <td>0.569651</td>\n",
       "      <td>27.191692</td>\n",
       "      <td>6.502162</td>\n",
       "      <td>0.939729</td>\n",
       "    </tr>\n",
       "    <tr>\n",
       "      <th>min</th>\n",
       "      <td>0.000000</td>\n",
       "      <td>11.000000</td>\n",
       "      <td>3.000000</td>\n",
       "      <td>1.000000</td>\n",
       "    </tr>\n",
       "    <tr>\n",
       "      <th>25%</th>\n",
       "      <td>1.000000</td>\n",
       "      <td>86.000000</td>\n",
       "      <td>20.000000</td>\n",
       "      <td>1.000000</td>\n",
       "    </tr>\n",
       "    <tr>\n",
       "      <th>50%</th>\n",
       "      <td>1.000000</td>\n",
       "      <td>109.000000</td>\n",
       "      <td>25.000000</td>\n",
       "      <td>2.000000</td>\n",
       "    </tr>\n",
       "    <tr>\n",
       "      <th>75%</th>\n",
       "      <td>2.000000</td>\n",
       "      <td>126.000000</td>\n",
       "      <td>29.000000</td>\n",
       "      <td>2.000000</td>\n",
       "    </tr>\n",
       "    <tr>\n",
       "      <th>max</th>\n",
       "      <td>2.000000</td>\n",
       "      <td>178.000000</td>\n",
       "      <td>49.000000</td>\n",
       "      <td>7.000000</td>\n",
       "    </tr>\n",
       "  </tbody>\n",
       "</table>\n",
       "</div>"
      ],
      "text/plain": [
       "             label        chars        words    sentences\n",
       "count  8914.000000  8914.000000  8914.000000  8914.000000\n",
       "mean      1.269352   104.976778    24.429998     1.877384\n",
       "std       0.569651    27.191692     6.502162     0.939729\n",
       "min       0.000000    11.000000     3.000000     1.000000\n",
       "25%       1.000000    86.000000    20.000000     1.000000\n",
       "50%       1.000000   109.000000    25.000000     2.000000\n",
       "75%       2.000000   126.000000    29.000000     2.000000\n",
       "max       2.000000   178.000000    49.000000     7.000000"
      ]
     },
     "execution_count": 9,
     "metadata": {},
     "output_type": "execute_result"
    }
   ],
   "source": [
    "tweets.describe()"
   ]
  },
  {
   "cell_type": "markdown",
   "id": "428ffd08",
   "metadata": {},
   "source": [
    "***\n",
    "- Each tweet contains, on average: \n",
    "    - **104** characters\n",
    "    - **24** words\n",
    "    - **~2** sentences\n",
    "\n",
    "- The spread (or `std`) in both the number of *characters* and *words* is moderately high - at least **25%** of the mean - indicating a fair number of tweets with low and high word and character counts. "
   ]
  },
  {
   "cell_type": "code",
   "execution_count": 10,
   "id": "2cd15921",
   "metadata": {},
   "outputs": [
    {
     "data": {
      "image/png": "[encoded data removed]",
      "text/plain": [
       "<Figure size 432x288 with 1 Axes>"
      ]
     },
     "metadata": {
      "needs_background": "light"
     },
     "output_type": "display_data"
    }
   ],
   "source": [
    "sns.countplot(data=tweets, x='label')\n",
    "plt.title('Sentiment Distribution');\n"
   ]
  },
  {
   "cell_type": "markdown",
   "id": "b100a4f2",
   "metadata": {},
   "source": [
    "- The sentiment distribution above indicates that the dominant class was the `neutrals` followed by `positives` and relatively low `negatives`\n",
    "\n",
    "- This is a clear indication of **class imbalance**"
   ]
  },
  {
   "cell_type": "markdown",
   "id": "0d7fc5f8",
   "metadata": {},
   "source": [
    "## 7. Data Modelling\n",
    "\n",
    "### 7.1. Methodology\n",
    "- For our baseline model, we will:\n",
    "\n",
    "    - Apply `SMOTE` (with minority sampling) in our pipeline given class imbalance\n",
    "\n",
    "    - Use `CountVectorizer` at first, since we are dealing with very short texts ('tweets') and term frequency might carry enough signal\n",
    "\n",
    "    - Apply `RandomForestClassifier` because:\n",
    "        - it has stronger out-of-the-box performance with zero hyperparameter tuning\n",
    "\n",
    "        - It responds better to `SMOTE` and is less sensitive to class imbalance"
   ]
  },
  {
   "cell_type": "markdown",
   "id": "9086cba9",
   "metadata": {},
   "source": [
    "### 7.2. Model Training and Evaluation"
   ]
  },
  {
   "cell_type": "markdown",
   "id": "1548a1bf",
   "metadata": {},
   "source": [
    "- We define a function that helps us to evaluate our models"
   ]
  },
  {
   "cell_type": "code",
   "execution_count": 11,
   "id": "4e6a4b0f",
   "metadata": {},
   "outputs": [],
   "source": [
    "# Define a Performance Evaluation Function\n",
    "\n",
    "results = []\n",
    "\n",
    "def evaluate_model(name, y_true, y_pred, results=[]):\n",
    "    acc = accuracy_score(y_true, y_pred)\n",
    "    f1 = f1_score(y_true, y_pred, average='macro')\n",
    "    f1_weighted = f1_score(y_true, y_pred, average='weighted')\n",
    "    \n",
    "    results.append({\n",
    "        'Model': name,\n",
    "        'Accuracy score': round(acc * 100, 2),\n",
    "        'Weighted F1 score': round(f1_weighted * 100, 2)\n",
    "    })\n",
    "    return results"
   ]
  },
  {
   "cell_type": "code",
   "execution_count": 12,
   "id": "91a44af5",
   "metadata": {},
   "outputs": [
    {
     "name": "stdout",
     "output_type": "stream",
     "text": [
      "                 Model  Accuracy score  Weighted F1 score\n",
      "0  Baseline (Original)           40.49              38.42\n",
      "Cross-validated Model Accuracy: 40.88%\n",
      "ROC_AUC Score (Multiclass): 65.38%\n"
     ]
    }
   ],
   "source": [
    "# Split the data into features and labels\n",
    "X = tweets['document']\n",
    "y = tweets['label']\n",
    "\n",
    "# Split the data into training and testing sets\n",
    "X_train, X_test, y_train, y_test = train_test_split(X, y, test_size=0.2, random_state=42)\n",
    "\n",
    "# Create a baseline model using CountVectorizer and RandomForestClassifier\n",
    "baseline_model = Pipeline([\n",
    "    ('vect', CountVectorizer()),\n",
    "    ('smote', SMOTE(sampling_strategy='minority', random_state=42)),\n",
    "    ('clf', RandomForestClassifier(n_estimators=100, random_state=42, max_depth=5))\n",
    "])\n",
    "\n",
    "# Fit the model on the training data\n",
    "baseline_model.fit(X_train, y_train)\n",
    "\n",
    "# Evaluate the model on the test data\n",
    "y_pred = baseline_model.predict(X_test)\n",
    "\n",
    "# Print Evaluation Scores\n",
    "evaluate_model('Baseline (Original)', y_test, y_pred, results)\n",
    "print(pd.DataFrame(results))\n",
    "\n",
    "# Print cross-validated scores\n",
    "cv_accuracy = np.mean(cross_val_score(baseline_model, X_train, y_train, cv=5))\n",
    "print(f\"Cross-validated Model Accuracy: {cv_accuracy:.2%}\")\n",
    "\n",
    "# Predict probabilities for ROC AUC\n",
    "y_proba = baseline_model.predict_proba(X_test)\n",
    "roc_auc = roc_auc_score(y_test, y_proba, multi_class='ovr')\n",
    "print(f\"ROC_AUC Score (Multiclass): {roc_auc:.2%}\")\n"
   ]
  },
  {
   "cell_type": "code",
   "execution_count": 24,
   "id": "96f1b266",
   "metadata": {},
   "outputs": [],
   "source": [
    "# # Plot the confusion matrix\n",
    "# cm = confusion_matrix(y_test, y_pred)\n",
    "# disp = ConfusionMatrixDisplay(confusion_matrix=cm, display_labels=baseline_model.classes_);"
   ]
  },
  {
   "cell_type": "markdown",
   "id": "c6a8d10d",
   "metadata": {},
   "source": [
    "**Results Summary**\n",
    "- Test Accuracy: **40.49%**\n",
    "    - The model got about 40% of the new, unseen data correct. This is slightly better than chance (*33%*) for a **3-class problem** and indicates poor predictive performance.\n",
    "- Cross-validated Accuracy: **40.88%**\n",
    "    - This checks the model's consistency. Confirms a low risk of overfitting in the data but still shows underfitting (the model is not learning enough)\n",
    "- Weighted F1 Score: **38.42%**\n",
    "    - Slightly lower than but more reliable than accuracy given class imbalance. The model is still struggling on minority classes.\n",
    "- ROC-AUC Score: **65.38%**\n",
    "    - The model correctly separates classes 65% of the time but fails to translate this into accurate class predictions.\n",
    "\n"
   ]
  },
  {
   "cell_type": "markdown",
   "id": "1e5fa498",
   "metadata": {},
   "source": [
    "### Finetuning our Baseline Model\n",
    "- In order to fine-tune our base model, we will:\n",
    "\n",
    "    - Use `TF-IDF` as a vectorizer to see if there is an improvement in performance through a stronger signal\n",
    "\n",
    "    - Incorporate `product_category` feature using `OneHotEncoder`\n",
    "\n",
    "    - Employ `GridsearchCV` to fine-tune the hyperparameters for our model\n",
    "\n",
    "- We will also employ other techniques for comparison such as:\n",
    "\n",
    "    -  *Ensemble methods*: `XGBClassifier`\n",
    "\n",
    "    - *Naive Bayes Classifiers*: `Multinomial Bayes`,`Complement Naive Bayes`"
   ]
  },
  {
   "cell_type": "code",
   "execution_count": 14,
   "id": "b6b9012a",
   "metadata": {},
   "outputs": [],
   "source": [
    "X = tweets[['document','product_category']]\n",
    "y = tweets['label']\n",
    "\n",
    "X_train, X_test, y_train, y_test = train_test_split(X, y, random_state=42)\n"
   ]
  },
  {
   "cell_type": "code",
   "execution_count": 15,
   "id": "e2ad3797",
   "metadata": {},
   "outputs": [
    {
     "name": "stdout",
     "output_type": "stream",
     "text": [
      "                 Model  Accuracy score  Weighted F1 score\n",
      "0  Baseline (Original)           40.49              38.42\n",
      "1       Baseline (New)           55.09              45.53\n",
      "Cross-validated Model Accuracy: 55.63%\n",
      "ROC_AUC Score (Multiclass): 68.19%\n"
     ]
    }
   ],
   "source": [
    "from scipy.sparse import hstack\n",
    "\n",
    "# Preprocess TRAIN data\n",
    "tfidf = TfidfVectorizer().fit(X_train['document']) #TF-IDF\n",
    "ohe = OneHotEncoder(handle_unknown='ignore').fit(X_train[['product_category']])#OneHotEncoder\n",
    "\n",
    "X_train_tfidf = tfidf.transform(X_train['document'])\n",
    "X_train_ohe = ohe.transform(X_train[['product_category']]) \n",
    "X_train_processed = hstack([X_train_tfidf, X_train_ohe])\n",
    "\n",
    "# Preprocess TEST data\n",
    "X_test_tfidf = tfidf.transform(X_test['document'])\n",
    "X_test_ohe = ohe.transform(X_test[['product_category']])\n",
    "X_test_processed = hstack([X_test_tfidf, X_test_ohe])\n",
    "\n",
    "# Update pipeline \n",
    "baseline_model = Pipeline([\n",
    "    ('smote', SMOTE(sampling_strategy='minority', random_state=42)),\n",
    "    ('clf', RandomForestClassifier(n_estimators=100, max_depth=5, random_state=42))\n",
    "])\n",
    "\n",
    "baseline_model.fit(X_train_processed, y_train)\n",
    "baseline_preds = baseline_model.predict(X_test_processed)\n",
    "evaluate_model('Baseline (New)', y_test, baseline_preds, results)\n",
    "\n",
    "results_df = pd.DataFrame(results)\n",
    "print(results_df)\n",
    "\n",
    "# Print cross-validated scores\n",
    "cv_accuracy = np.mean(cross_val_score(baseline_model, X_train_processed, y_train, cv=5))\n",
    "print(f\"Cross-validated Model Accuracy: {cv_accuracy:.2%}\")\n",
    "\n",
    "# Predict probabilities for ROC AUC\n",
    "y_proba = baseline_model.predict_proba(X_test_processed)\n",
    "roc_auc = roc_auc_score(y_test, y_proba, multi_class='ovr')\n",
    "print(f\"ROC_AUC Score (Multiclass): {roc_auc:.2%}\")"
   ]
  },
  {
   "cell_type": "markdown",
   "id": "efeb89c2",
   "metadata": {},
   "source": [
    "**Results Summary (Post-adjustments)**\n",
    "- Test Accuracy: **55%**\n",
    "    - Jump in accuracy (*14%*) confirms performance improvement. This is because of better feature weighting (using `TF-IDF`) and more features added(`product_category`)\n",
    "- Cross-validated Accuracy: **55%**\n",
    "    - Confirms that the model performance can be generalized to the test set.\n",
    "- Weighted F1 Score: **45%**\n",
    "    - *7%* increase suggests model is doing a better job with predicting minority classes, not just majority-class.\n",
    "- ROC-AUC Score: **68%**\n",
    "    - *3%* Increase suggests the model is even better at class separation. \n",
    "\n"
   ]
  },
  {
   "cell_type": "markdown",
   "id": "09219c9a",
   "metadata": {},
   "source": [
    "### HyperParameter Tuning Using `GridsearchCV`\n",
    "#### Tuning `RandomForestClassifier`"
   ]
  },
  {
   "cell_type": "markdown",
   "id": "f76b48de",
   "metadata": {},
   "source": [
    "- We are going to do the following below:\n",
    "    - Creating a Pipeline using still using `SMOTE` to balance class distribution and `RandomForestClassifier` as our model\n",
    "\n",
    "    - Setting up GridSearchCV which tries different combinations of hyperparameters, including:\n",
    "    \n",
    "        - `n_estimators`: Number of trees in the forest.\n",
    "        - `max_depth`: How deep each tree can grow.\n",
    "        - `min_samples_split`: Minimum samples to split a node.\n",
    "        - `class_weight`: Whether to give more weight to minority class.\n",
    "\n",
    "- The model runs 5-fold cross-validation to find the best parameters and uses `weighted_f1` as the scoring method"
   ]
  },
  {
   "cell_type": "code",
   "execution_count": 16,
   "id": "4d2b926c",
   "metadata": {},
   "outputs": [
    {
     "name": "stdout",
     "output_type": "stream",
     "text": [
      "                   Model  Accuracy score  Weighted F1 score\n",
      "0    Baseline (Original)           40.49              38.42\n",
      "1         Baseline (New)           55.09              45.53\n",
      "2  Tuned RF (GridSearch)           68.19              66.94\n",
      "Cross-validated Model Accuracy: 66.66%\n",
      "ROC_AUC Score (Multiclass): 78.53%\n"
     ]
    }
   ],
   "source": [
    "# RandomForestClassifier using GridSearchCV\n",
    "pipe = Pipeline([\n",
    "    ('smote', SMOTE(sampling_strategy='minority', random_state=42)),\n",
    "    ('clf', RandomForestClassifier(random_state=42))\n",
    "])\n",
    "\n",
    "# Define parameter grid\n",
    "param_grid = {\n",
    "    'clf__n_estimators': [100, 200],\n",
    "    'clf__max_depth': [None, 10, 20],\n",
    "    'clf__min_samples_split': [2, 5],\n",
    "    'clf__class_weight': [None, 'balanced']\n",
    "}\n",
    "\n",
    "grid_search = GridSearchCV(\n",
    "    pipe, \n",
    "    param_grid, cv=5, scoring='f1_weighted', n_jobs=-1)\n",
    "\n",
    "grid_search.fit(X_train_processed, y_train)\n",
    "tuned_rf = grid_search.predict(X_test_processed)\n",
    "evaluate_model('Tuned RF (GridSearch)', y_test, tuned_rf, results)\n",
    "\n",
    "results_df = pd.DataFrame(results)\n",
    "print(results_df)\n",
    "\n",
    "# Print cross-validated scores\n",
    "cv_accuracy = np.mean(cross_val_score(grid_search, X_train_processed, y_train, cv=5))\n",
    "print(f\"Cross-validated Model Accuracy: {cv_accuracy:.2%}\")\n",
    "\n",
    "# Predict probabilities for ROC AUC\n",
    "y_proba = grid_search.predict_proba(X_test_processed)\n",
    "roc_auc = roc_auc_score(y_test, y_proba, multi_class='ovr')\n",
    "print(f\"ROC_AUC Score (Multiclass): {roc_auc:.2%}\")\n"
   ]
  },
  {
   "cell_type": "markdown",
   "id": "fb11000e",
   "metadata": {},
   "source": [
    "**Results Summary (Post-GridSearch)**\n",
    "- Test Accuracy: **68.19%**\n",
    "    - \n",
    "- Cross-validated Accuracy: **66.66%**\n",
    "    - \n",
    "- Weighted F1 Score: **66.94%**\n",
    "    - \n",
    "- ROC-AUC Score: **78.53%**\n",
    "    -  "
   ]
  },
  {
   "cell_type": "markdown",
   "id": "22fd9734",
   "metadata": {},
   "source": [
    "### Top 20 Most Important Features in Our RandomForest Classifier"
   ]
  },
  {
   "cell_type": "code",
   "execution_count": 17,
   "id": "1a851d5d",
   "metadata": {},
   "outputs": [
    {
     "data": {
      "image/png": "[encoded data removed]",
      "text/plain": [
       "<Figure size 720x432 with 1 Axes>"
      ]
     },
     "metadata": {
      "needs_background": "light"
     },
     "output_type": "display_data"
    }
   ],
   "source": [
    "import matplotlib.pyplot as plt\n",
    "import numpy as np\n",
    "\n",
    "# Get the best estimator (RandomForestClassifier) from the pipeline\n",
    "best_rf = grid_search.best_estimator_.named_steps['clf']\n",
    "\n",
    "# Get feature names from TF-IDF\n",
    "tfidf_feature_names = tfidf.get_feature_names()\n",
    "\n",
    "# Get feature names from OneHotEncoder\n",
    "ohe_feature_names = ohe.get_feature_names(['product_category'])\n",
    "\n",
    "# Combine all feature names\n",
    "all_feature_names = np.concatenate([tfidf_feature_names, ohe_feature_names])\n",
    "\n",
    "# Get feature importances from the best Random Forest model\n",
    "importances = best_rf.feature_importances_\n",
    "\n",
    "# Sort features by importance (top 20 for visualization)\n",
    "indices = np.argsort(importances)[-20:]  # top 20 important features\n",
    "top_features = all_feature_names[indices]\n",
    "top_importances = importances[indices]\n",
    "\n",
    "# Plotting\n",
    "plt.figure(figsize=(10, 6))\n",
    "plt.barh(top_features, top_importances, color='skyblue')\n",
    "plt.xlabel(\"Feature Importance\")\n",
    "plt.title(\"Top 20 Important Features (Random Forest)\")\n",
    "plt.tight_layout()\n",
    "plt.show()\n"
   ]
  },
  {
   "cell_type": "markdown",
   "id": "0047d9fe",
   "metadata": {},
   "source": [
    "What “Feature Importance” Means:\n",
    "- In a Random Forest, feature importance tells you:\n",
    "\n",
    "    - “How much did this feature help the model reduce uncertainty (impurity) across all trees?”\n",
    "\n",
    "    - A higher importance means that the feature was:\n",
    "\n",
    "        - Frequently used in tree splits\n",
    "\n",
    "        - Helped the model distinguish between classes"
   ]
  },
  {
   "cell_type": "markdown",
   "id": "a34fe9df",
   "metadata": {},
   "source": [
    "#### Alternative techniques: Ensemble models (`XGBClassifier`)"
   ]
  },
  {
   "cell_type": "code",
   "execution_count": 19,
   "id": "bdd4766e",
   "metadata": {},
   "outputs": [
    {
     "name": "stdout",
     "output_type": "stream",
     "text": [
      "[05:43:31] WARNING: C:\\Users\\Administrator\\workspace\\xgboost-win64_release_1.2.0\\src\\learner.cc:516: \n",
      "Parameters: { use_label_encoder } might not be used.\n",
      "\n",
      "  This may not be accurate due to some parameters are only used in language bindings but\n",
      "  passed down to XGBoost core.  Or some parameters are not used but slip through this\n",
      "  verification. Please open an issue if you find above cases.\n",
      "\n",
      "\n",
      "[05:45:43] WARNING: C:\\Users\\Administrator\\workspace\\xgboost-win64_release_1.2.0\\src\\learner.cc:516: \n",
      "Parameters: { use_label_encoder } might not be used.\n",
      "\n",
      "  This may not be accurate due to some parameters are only used in language bindings but\n",
      "  passed down to XGBoost core.  Or some parameters are not used but slip through this\n",
      "  verification. Please open an issue if you find above cases.\n",
      "\n",
      "\n",
      "                      Model  Accuracy score  Weighted F1 score\n",
      "0       Baseline (Original)           40.49              38.42\n",
      "1            Baseline (New)           55.09              45.53\n",
      "2     Tuned RF (GridSearch)           68.19              66.94\n",
      "3  XGBClassifier (no SMOTE)           68.42              65.76\n",
      "4     XGBClassifier (SMOTE)           67.74              65.19\n",
      "5  XGBClassifier (no SMOTE)           68.60              65.84\n",
      "6     XGBClassifier (SMOTE)           67.34              65.01\n",
      "[05:49:00] WARNING: C:\\Users\\Administrator\\workspace\\xgboost-win64_release_1.2.0\\src\\learner.cc:516: \n",
      "Parameters: { use_label_encoder } might not be used.\n",
      "\n",
      "  This may not be accurate due to some parameters are only used in language bindings but\n",
      "  passed down to XGBoost core.  Or some parameters are not used but slip through this\n",
      "  verification. Please open an issue if you find above cases.\n",
      "\n",
      "\n",
      "[05:50:44] WARNING: C:\\Users\\Administrator\\workspace\\xgboost-win64_release_1.2.0\\src\\learner.cc:516: \n",
      "Parameters: { use_label_encoder } might not be used.\n",
      "\n",
      "  This may not be accurate due to some parameters are only used in language bindings but\n",
      "  passed down to XGBoost core.  Or some parameters are not used but slip through this\n",
      "  verification. Please open an issue if you find above cases.\n",
      "\n",
      "\n",
      "[05:52:27] WARNING: C:\\Users\\Administrator\\workspace\\xgboost-win64_release_1.2.0\\src\\learner.cc:516: \n",
      "Parameters: { use_label_encoder } might not be used.\n",
      "\n",
      "  This may not be accurate due to some parameters are only used in language bindings but\n",
      "  passed down to XGBoost core.  Or some parameters are not used but slip through this\n",
      "  verification. Please open an issue if you find above cases.\n",
      "\n",
      "\n",
      "[05:54:11] WARNING: C:\\Users\\Administrator\\workspace\\xgboost-win64_release_1.2.0\\src\\learner.cc:516: \n",
      "Parameters: { use_label_encoder } might not be used.\n",
      "\n",
      "  This may not be accurate due to some parameters are only used in language bindings but\n",
      "  passed down to XGBoost core.  Or some parameters are not used but slip through this\n",
      "  verification. Please open an issue if you find above cases.\n",
      "\n",
      "\n",
      "[05:55:54] WARNING: C:\\Users\\Administrator\\workspace\\xgboost-win64_release_1.2.0\\src\\learner.cc:516: \n",
      "Parameters: { use_label_encoder } might not be used.\n",
      "\n",
      "  This may not be accurate due to some parameters are only used in language bindings but\n",
      "  passed down to XGBoost core.  Or some parameters are not used but slip through this\n",
      "  verification. Please open an issue if you find above cases.\n",
      "\n",
      "\n",
      "Cross-validated Model Accuracy (No SMOTE): 67.93%\n",
      "[05:57:40] WARNING: C:\\Users\\Administrator\\workspace\\xgboost-win64_release_1.2.0\\src\\learner.cc:516: \n",
      "Parameters: { use_label_encoder } might not be used.\n",
      "\n",
      "  This may not be accurate due to some parameters are only used in language bindings but\n",
      "  passed down to XGBoost core.  Or some parameters are not used but slip through this\n",
      "  verification. Please open an issue if you find above cases.\n",
      "\n",
      "\n",
      "[06:00:19] WARNING: C:\\Users\\Administrator\\workspace\\xgboost-win64_release_1.2.0\\src\\learner.cc:516: \n",
      "Parameters: { use_label_encoder } might not be used.\n",
      "\n",
      "  This may not be accurate due to some parameters are only used in language bindings but\n",
      "  passed down to XGBoost core.  Or some parameters are not used but slip through this\n",
      "  verification. Please open an issue if you find above cases.\n",
      "\n",
      "\n",
      "[06:03:00] WARNING: C:\\Users\\Administrator\\workspace\\xgboost-win64_release_1.2.0\\src\\learner.cc:516: \n",
      "Parameters: { use_label_encoder } might not be used.\n",
      "\n",
      "  This may not be accurate due to some parameters are only used in language bindings but\n",
      "  passed down to XGBoost core.  Or some parameters are not used but slip through this\n",
      "  verification. Please open an issue if you find above cases.\n",
      "\n",
      "\n",
      "[06:05:40] WARNING: C:\\Users\\Administrator\\workspace\\xgboost-win64_release_1.2.0\\src\\learner.cc:516: \n",
      "Parameters: { use_label_encoder } might not be used.\n",
      "\n",
      "  This may not be accurate due to some parameters are only used in language bindings but\n",
      "  passed down to XGBoost core.  Or some parameters are not used but slip through this\n",
      "  verification. Please open an issue if you find above cases.\n",
      "\n",
      "\n",
      "[06:08:20] WARNING: C:\\Users\\Administrator\\workspace\\xgboost-win64_release_1.2.0\\src\\learner.cc:516: \n",
      "Parameters: { use_label_encoder } might not be used.\n",
      "\n",
      "  This may not be accurate due to some parameters are only used in language bindings but\n",
      "  passed down to XGBoost core.  Or some parameters are not used but slip through this\n",
      "  verification. Please open an issue if you find above cases.\n",
      "\n",
      "\n",
      "Cross-validated Model Accuracy (With SMOTE): 67.73%\n",
      "ROC_AUC Score (No SMOTE): 76.83%\n",
      "ROC_AUC Score (With SMOTE): 77.51%\n"
     ]
    }
   ],
   "source": [
    "from xgboost import XGBClassifier\n",
    "from sklearn.model_selection import cross_val_score\n",
    "from imblearn.pipeline import Pipeline\n",
    "from imblearn.over_sampling import SMOTE\n",
    "from sklearn.metrics import roc_auc_score\n",
    "import numpy as np\n",
    "import pandas as pd\n",
    "\n",
    "# Convert to dense format\n",
    "X_train_dense = X_train_processed.toarray()\n",
    "X_test_dense = X_test_processed.toarray()\n",
    "\n",
    "# Pipeline without SMOTE\n",
    "xgb_pipe_nosmote = Pipeline([\n",
    "    ('clf', XGBClassifier(use_label_encoder=False, eval_metric='mlogloss', random_state=42))\n",
    "])\n",
    "\n",
    "xgb_pipe_nosmote.fit(X_train_dense, y_train)\n",
    "xgb_preds_nosmote = xgb_pipe_nosmote.predict(X_test_dense)\n",
    "evaluate_model('XGBClassifier (no SMOTE)', y_test, xgb_preds_nosmote, results)\n",
    "\n",
    "# Pipeline with SMOTE\n",
    "xgb_pipe = Pipeline([\n",
    "    ('smote', SMOTE(sampling_strategy='minority', random_state=42)),\n",
    "    ('clf', XGBClassifier(use_label_encoder=False, eval_metric='mlogloss', random_state=42))\n",
    "])\n",
    "\n",
    "xgb_pipe.fit(X_train_dense, y_train)\n",
    "xgb_preds = xgb_pipe.predict(X_test_dense)\n",
    "evaluate_model('XGBClassifier (SMOTE)', y_test, xgb_preds, results)\n",
    "\n",
    "# Print results\n",
    "results_df = pd.DataFrame(results)\n",
    "print(results_df)\n",
    "\n",
    "# Cross-validated scores\n",
    "cv_accuracy_nosmote = np.mean(cross_val_score(xgb_pipe_nosmote, X_train_dense, y_train, cv=5))\n",
    "print(f\"Cross-validated Model Accuracy (No SMOTE): {cv_accuracy_nosmote:.2%}\")\n",
    "\n",
    "cv_accuracy_smote = np.mean(cross_val_score(xgb_pipe, X_train_dense, y_train, cv=5))\n",
    "print(f\"Cross-validated Model Accuracy (With SMOTE): {cv_accuracy_smote:.2%}\")\n",
    "\n",
    "# ROC AUC Scores\n",
    "y_proba_nosmote = xgb_pipe_nosmote.predict_proba(X_test_dense)\n",
    "roc_auc_nosmote = roc_auc_score(y_test, y_proba_nosmote, multi_class='ovr')\n",
    "print(f\"ROC_AUC Score (No SMOTE): {roc_auc_nosmote:.2%}\")\n",
    "\n",
    "y_proba_smote = xgb_pipe.predict_proba(X_test_dense)\n",
    "roc_auc_smote = roc_auc_score(y_test, y_proba_smote, multi_class='ovr')\n",
    "print(f\"ROC_AUC Score (With SMOTE): {roc_auc_smote:.2%}\")\n"
   ]
  },
  {
   "cell_type": "markdown",
   "id": "4140af86",
   "metadata": {},
   "source": [
    " ### Key Takeaways\n",
    "\n",
    "Tuned Random Forest provides the best balance of accuracy and F1 score, making it ideal for deployment in business settings.\n",
    "\n",
    "XGBoost delivers the highest accuracy but may need threshold tuning to balance precision and recall.\n",
    "\n",
    "Complement Naive Bayes yields a high F1 score, suggesting it's effective in capturing the minority class, but may misclassify more overall.\n",
    "\n",
    "SMOTE generally improves the F1 Score across models, confirming that addressing class imbalance enhances minority sentiment detection."
   ]
  },
  {
   "cell_type": "markdown",
   "id": "8eaac063",
   "metadata": {},
   "source": [
    "#### Alternative techniques: Naive Bayes Classifiers (`MultinomialNB` and `ComplementNB`) "
   ]
  },
  {
   "cell_type": "code",
   "execution_count": 20,
   "id": "75fdc9f2",
   "metadata": {},
   "outputs": [
    {
     "name": "stdout",
     "output_type": "stream",
     "text": [
      "                      Model  Accuracy score  Weighted F1 score\n",
      "0       Baseline (Original)           40.49              38.42\n",
      "1            Baseline (New)           55.09              45.53\n",
      "2     Tuned RF (GridSearch)           68.19              66.94\n",
      "3  XGBClassifier (no SMOTE)           68.42              65.76\n",
      "4     XGBClassifier (SMOTE)           67.74              65.19\n",
      "5  XGBClassifier (no SMOTE)           68.60              65.84\n",
      "6     XGBClassifier (SMOTE)           67.34              65.01\n",
      "7         Multinomial Bayes           60.03              57.57\n",
      "8    Complement Naive Bayes           62.23              63.51\n",
      "Cross-validated Model Accuracy (Multinomial): 66.66%\n",
      "[06:45:44] WARNING: C:\\Users\\Administrator\\workspace\\xgboost-win64_release_1.2.0\\src\\learner.cc:516: \n",
      "Parameters: { use_label_encoder } might not be used.\n",
      "\n",
      "  This may not be accurate due to some parameters are only used in language bindings but\n",
      "  passed down to XGBoost core.  Or some parameters are not used but slip through this\n",
      "  verification. Please open an issue if you find above cases.\n",
      "\n",
      "\n",
      "[06:45:46] WARNING: C:\\Users\\Administrator\\workspace\\xgboost-win64_release_1.2.0\\src\\learner.cc:516: \n",
      "Parameters: { use_label_encoder } might not be used.\n",
      "\n",
      "  This may not be accurate due to some parameters are only used in language bindings but\n",
      "  passed down to XGBoost core.  Or some parameters are not used but slip through this\n",
      "  verification. Please open an issue if you find above cases.\n",
      "\n",
      "\n",
      "[06:45:49] WARNING: C:\\Users\\Administrator\\workspace\\xgboost-win64_release_1.2.0\\src\\learner.cc:516: \n",
      "Parameters: { use_label_encoder } might not be used.\n",
      "\n",
      "  This may not be accurate due to some parameters are only used in language bindings but\n",
      "  passed down to XGBoost core.  Or some parameters are not used but slip through this\n",
      "  verification. Please open an issue if you find above cases.\n",
      "\n",
      "\n",
      "[06:45:51] WARNING: C:\\Users\\Administrator\\workspace\\xgboost-win64_release_1.2.0\\src\\learner.cc:516: \n",
      "Parameters: { use_label_encoder } might not be used.\n",
      "\n",
      "  This may not be accurate due to some parameters are only used in language bindings but\n",
      "  passed down to XGBoost core.  Or some parameters are not used but slip through this\n",
      "  verification. Please open an issue if you find above cases.\n",
      "\n",
      "\n",
      "[06:45:54] WARNING: C:\\Users\\Administrator\\workspace\\xgboost-win64_release_1.2.0\\src\\learner.cc:516: \n",
      "Parameters: { use_label_encoder } might not be used.\n",
      "\n",
      "  This may not be accurate due to some parameters are only used in language bindings but\n",
      "  passed down to XGBoost core.  Or some parameters are not used but slip through this\n",
      "  verification. Please open an issue if you find above cases.\n",
      "\n",
      "\n",
      "Cross-validated Model Accuracy (Complement ): 66.91%\n",
      "ROC_AUC Score (Multinomial): 75.86%\n",
      "ROC_AUC Score (Complement): 76.06%\n"
     ]
    }
   ],
   "source": [
    "# Multinomial Bayes\n",
    "from sklearn.naive_bayes import MultinomialNB\n",
    "\n",
    "mnb_pipe = Pipeline([\n",
    "    ('smote', SMOTE(sampling_strategy='minority', random_state=42)),\n",
    "    ('clf',MultinomialNB())\n",
    "])\n",
    "\n",
    "mnb_pipe.fit(X_train_processed_csr, y_train)\n",
    "mnb_preds = mnb_pipe.predict(X_test_processed_csr)\n",
    "evaluate_model('Multinomial Bayes', y_test, mnb_preds, results)\n",
    "\n",
    "\n",
    "# Complement Naive Bayes\n",
    "from sklearn.naive_bayes import ComplementNB\n",
    "\n",
    "complement_nb_pipe = Pipeline([\n",
    "    ('smote', SMOTE(sampling_strategy='minority', random_state=42)),\n",
    "    ('clf', ComplementNB())\n",
    "])\n",
    "\n",
    "complement_nb_pipe.fit(X_train_processed_csr, y_train)\n",
    "complement_nb_preds = complement_nb_pipe.predict(X_test_processed_csr)\n",
    "evaluate_model('Complement Naive Bayes', y_test, complement_nb_preds, results)\n",
    "  \n",
    "results_df = pd.DataFrame(results)\n",
    "print(results_df)\n",
    "\n",
    "# Print cross-validated scores\n",
    "cv_accuracy_MNB = np.mean(cross_val_score(mnb_pipe, X_train_processed, y_train, cv=5))\n",
    "print(f\"Cross-validated Model Accuracy (Multinomial): {cv_accuracy:.2%}\")\n",
    "\n",
    "cv_accuracy_smote = np.mean(cross_val_score(xgb_pipe, X_train_processed, y_train, cv=5))\n",
    "print(f\"Cross-validated Model Accuracy (Complement ): {cv_accuracy_smote:.2%}\")\n",
    "\n",
    "# Predict probabilities for ROC AUC\n",
    "y_proba_mnb = mnb_pipe.predict_proba(X_test_processed)\n",
    "roc_auc_mnb = roc_auc_score(y_test, y_proba_mnb, multi_class='ovr')\n",
    "print(f\"ROC_AUC Score (Multinomial): {roc_auc_mnb:.2%}\")\n",
    "\n",
    "y_proba_comp = complement_nb_pipe.predict_proba(X_test_processed)\n",
    "roc_auc_comp = roc_auc_score(y_test, y_proba_comp, multi_class='ovr')\n",
    "print(f\"ROC_AUC Score (Complement): {roc_auc_comp:.2%}\")"
   ]
  },
  {
   "cell_type": "markdown",
   "metadata": {},
   "source": [
    "**Overall Results Summary**\n",
    "- Best Overall Accuracy:\n",
    "    - *XGBClassifier (SMOTE)* leads with a cross-validated score of 67.06% , meaning it predicts correctly more often than the others.\n",
    "\n",
    "- Best Balance (F1 Score):\n",
    "    - *XGBClassifier (no SMOTE)* has the highest F1 score (64.68%), meaning it’s better at treating all classes fairly, especially useful if you care about minority class detection.\n",
    "\n",
    "- Best Class Predictions (ROC_AUC score):\n",
    "    - *XGBClassifier (SMOTE)* has the highest ROC_AUC score (76.64%), implying it has the best performance when ranking true class probabilities"
   ]
  },
  {
   "cell_type": "code",
   "execution_count": 22,
   "id": "ab1618c3",
   "metadata": {},
   "outputs": [
    {
     "data": {
      "image/png": "[encoded data removed]",
      "text/plain": [
       "<Figure size 864x432 with 1 Axes>"
      ]
     },
     "metadata": {},
     "output_type": "display_data"
    }
   ],
   "source": [
    "# Plot Results\n",
    "# Set style\n",
    "sns.set(style=\"whitegrid\")\n",
    "\n",
    "# Plot\n",
    "fig, ax = plt.subplots(figsize=(12, 6))\n",
    "sns.barplot(data=results_df.melt(id_vars=\"Model\", var_name=\"Metric\", value_name=\"Score\"), \n",
    "            x=\"Score\", y=\"Model\", hue=\"Metric\", ax=ax)\n",
    "\n",
    "ax.set_title(\"Model Comparison: Accuracy/F1 Score\", fontsize=14)\n",
    "ax.set_xlabel(\"Score (%)\")\n",
    "ax.set_ylabel(\"Model\")\n",
    "ax.legend(loc='upper right')\n",
    "\n",
    "plt.tight_layout()\n",
    "plt.show();\n"
   ]
  },
  {
   "cell_type": "markdown",
   "metadata": {},
   "source": [
    "## 8. Conclusions and Recommendations\n",
    "\n",
    "Based on the sentiment analysis pipeline and model evaluation, the following recommendations are proposed to help the business make data-driven decisions:\n",
    "\n",
    " 1. **Proactive Sentiment Monitoring**\n",
    "    - Deploy the best-performing model (e.g., Complement Naive Bayes or Tuned RandomForest Classifier) as a real-time sentiment engine to detect rising negative sentiment on social media.\n",
    "\n",
    "\n",
    " 2. **Targeted Product Feedback Analysis**\n",
    "    - Use the model to generate weekly or monthly reports showing sentiment broken down by `product_category`. Focus improvement efforts on products with a high percentage of negative sentiment.\n",
    "\n",
    " 3. **Customer Support Optimization**\n",
    "    - Create a feedback loop between the sentiment model and support operations:\n",
    "        - Automatically flag tweets with strongly negative tone.\n",
    "        - Route them to priority queues or initiate direct outreach."
   ]
  },
  {
   "cell_type": "markdown",
   "metadata": {},
   "source": []
  }
 ],
 "metadata": {
  "kernelspec": {
   "display_name": "learn-env",
   "language": "python",
   "name": "python3"
  },
  "language_info": {
   "codemirror_mode": {
    "name": "ipython",
    "version": 3
   },
   "file_extension": ".py",
   "mimetype": "text/x-python",
   "name": "python",
   "nbconvert_exporter": "python",
   "pygments_lexer": "ipython3",
   "version": "3.8.5"
  }
 },
 "nbformat": 4,
 "nbformat_minor": 5
}
